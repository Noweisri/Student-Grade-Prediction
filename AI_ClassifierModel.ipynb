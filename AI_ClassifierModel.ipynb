{
 "cells": [
  {
   "cell_type": "code",
   "execution_count": null,
   "id": "16a5f339",
   "metadata": {},
   "outputs": [],
   "source": [
    "# Importing libraries.\n",
    "import pandas as pd\n",
    "import matplotlib.pyplot as plt"
   ]
  },
  {
   "cell_type": "code",
   "execution_count": null,
   "id": "846dad15",
   "metadata": {},
   "outputs": [],
   "source": [
    "# Read the datasets\n",
    "dataset=pd.read_csv(\"XAPI-Edu-Data.csv\")"
   ]
  },
  {
   "cell_type": "code",
   "execution_count": 10,
   "id": "abdc5d1b",
   "metadata": {
    "scrolled": true
   },
   "outputs": [
    {
     "data": {
      "text/html": [
       "<div>\n",
       "<style scoped>\n",
       "    .dataframe tbody tr th:only-of-type {\n",
       "        vertical-align: middle;\n",
       "    }\n",
       "\n",
       "    .dataframe tbody tr th {\n",
       "        vertical-align: top;\n",
       "    }\n",
       "\n",
       "    .dataframe thead th {\n",
       "        text-align: right;\n",
       "    }\n",
       "</style>\n",
       "<table border=\"1\" class=\"dataframe\">\n",
       "  <thead>\n",
       "    <tr style=\"text-align: right;\">\n",
       "      <th></th>\n",
       "      <th>gender</th>\n",
       "      <th>NationalITy</th>\n",
       "      <th>PlaceofBirth</th>\n",
       "      <th>StageID</th>\n",
       "      <th>GradeID</th>\n",
       "      <th>SectionID</th>\n",
       "      <th>Topic</th>\n",
       "      <th>Semester</th>\n",
       "      <th>Relation</th>\n",
       "      <th>raisedhands</th>\n",
       "      <th>VisITedResources</th>\n",
       "      <th>AnnouncementsView</th>\n",
       "      <th>Discussion</th>\n",
       "      <th>ParentAnsweringSurvey</th>\n",
       "      <th>ParentschoolSatisfaction</th>\n",
       "      <th>StudentAbsenceDays</th>\n",
       "      <th>Class</th>\n",
       "    </tr>\n",
       "  </thead>\n",
       "  <tbody>\n",
       "    <tr>\n",
       "      <th>0</th>\n",
       "      <td>M</td>\n",
       "      <td>KW</td>\n",
       "      <td>KuwaIT</td>\n",
       "      <td>lowerlevel</td>\n",
       "      <td>G-04</td>\n",
       "      <td>A</td>\n",
       "      <td>IT</td>\n",
       "      <td>F</td>\n",
       "      <td>Father</td>\n",
       "      <td>15</td>\n",
       "      <td>16</td>\n",
       "      <td>2</td>\n",
       "      <td>20</td>\n",
       "      <td>Yes</td>\n",
       "      <td>Good</td>\n",
       "      <td>Under-7</td>\n",
       "      <td>M</td>\n",
       "    </tr>\n",
       "    <tr>\n",
       "      <th>1</th>\n",
       "      <td>M</td>\n",
       "      <td>KW</td>\n",
       "      <td>KuwaIT</td>\n",
       "      <td>lowerlevel</td>\n",
       "      <td>G-04</td>\n",
       "      <td>A</td>\n",
       "      <td>IT</td>\n",
       "      <td>F</td>\n",
       "      <td>Father</td>\n",
       "      <td>20</td>\n",
       "      <td>20</td>\n",
       "      <td>3</td>\n",
       "      <td>25</td>\n",
       "      <td>Yes</td>\n",
       "      <td>Good</td>\n",
       "      <td>Under-7</td>\n",
       "      <td>M</td>\n",
       "    </tr>\n",
       "    <tr>\n",
       "      <th>2</th>\n",
       "      <td>M</td>\n",
       "      <td>KW</td>\n",
       "      <td>KuwaIT</td>\n",
       "      <td>lowerlevel</td>\n",
       "      <td>G-04</td>\n",
       "      <td>A</td>\n",
       "      <td>IT</td>\n",
       "      <td>F</td>\n",
       "      <td>Father</td>\n",
       "      <td>10</td>\n",
       "      <td>7</td>\n",
       "      <td>0</td>\n",
       "      <td>30</td>\n",
       "      <td>No</td>\n",
       "      <td>Bad</td>\n",
       "      <td>Above-7</td>\n",
       "      <td>L</td>\n",
       "    </tr>\n",
       "    <tr>\n",
       "      <th>3</th>\n",
       "      <td>M</td>\n",
       "      <td>KW</td>\n",
       "      <td>KuwaIT</td>\n",
       "      <td>lowerlevel</td>\n",
       "      <td>G-04</td>\n",
       "      <td>A</td>\n",
       "      <td>IT</td>\n",
       "      <td>F</td>\n",
       "      <td>Father</td>\n",
       "      <td>30</td>\n",
       "      <td>25</td>\n",
       "      <td>5</td>\n",
       "      <td>35</td>\n",
       "      <td>No</td>\n",
       "      <td>Bad</td>\n",
       "      <td>Above-7</td>\n",
       "      <td>L</td>\n",
       "    </tr>\n",
       "    <tr>\n",
       "      <th>4</th>\n",
       "      <td>M</td>\n",
       "      <td>KW</td>\n",
       "      <td>KuwaIT</td>\n",
       "      <td>lowerlevel</td>\n",
       "      <td>G-04</td>\n",
       "      <td>A</td>\n",
       "      <td>IT</td>\n",
       "      <td>F</td>\n",
       "      <td>Father</td>\n",
       "      <td>40</td>\n",
       "      <td>50</td>\n",
       "      <td>12</td>\n",
       "      <td>50</td>\n",
       "      <td>No</td>\n",
       "      <td>Bad</td>\n",
       "      <td>Above-7</td>\n",
       "      <td>M</td>\n",
       "    </tr>\n",
       "  </tbody>\n",
       "</table>\n",
       "</div>"
      ],
      "text/plain": [
       "  gender NationalITy PlaceofBirth     StageID GradeID SectionID Topic  \\\n",
       "0      M          KW       KuwaIT  lowerlevel    G-04         A    IT   \n",
       "1      M          KW       KuwaIT  lowerlevel    G-04         A    IT   \n",
       "2      M          KW       KuwaIT  lowerlevel    G-04         A    IT   \n",
       "3      M          KW       KuwaIT  lowerlevel    G-04         A    IT   \n",
       "4      M          KW       KuwaIT  lowerlevel    G-04         A    IT   \n",
       "\n",
       "  Semester Relation  raisedhands  VisITedResources  AnnouncementsView  \\\n",
       "0        F   Father           15                16                  2   \n",
       "1        F   Father           20                20                  3   \n",
       "2        F   Father           10                 7                  0   \n",
       "3        F   Father           30                25                  5   \n",
       "4        F   Father           40                50                 12   \n",
       "\n",
       "   Discussion ParentAnsweringSurvey ParentschoolSatisfaction  \\\n",
       "0          20                   Yes                     Good   \n",
       "1          25                   Yes                     Good   \n",
       "2          30                    No                      Bad   \n",
       "3          35                    No                      Bad   \n",
       "4          50                    No                      Bad   \n",
       "\n",
       "  StudentAbsenceDays Class  \n",
       "0            Under-7     M  \n",
       "1            Under-7     M  \n",
       "2            Above-7     L  \n",
       "3            Above-7     L  \n",
       "4            Above-7     M  "
      ]
     },
     "execution_count": 10,
     "metadata": {},
     "output_type": "execute_result"
    }
   ],
   "source": [
    "#Check the dataset\n",
    "dataset.head()"
   ]
  },
  {
   "cell_type": "code",
   "execution_count": 11,
   "id": "04e0b1bd",
   "metadata": {
    "scrolled": true
   },
   "outputs": [
    {
     "name": "stdout",
     "output_type": "stream",
     "text": [
      "Old shape : (480, 17)\n",
      "New shape : (480, 15)\n",
      "     gender  StageID  GradeID  SectionID  Topic  Semester  Relation  \\\n",
      "0         0        0        4          0      0         0         0   \n",
      "1         0        0        4          0      0         0         0   \n",
      "2         0        0        4          0      0         0         0   \n",
      "3         0        0        4          0      0         0         0   \n",
      "4         0        0        4          0      0         0         0   \n",
      "..      ...      ...      ...        ...    ...       ...       ...   \n",
      "475       1        1        8          0      1         1         0   \n",
      "476       1        1        8          0      2         0         0   \n",
      "477       1        1        8          0      2         1         0   \n",
      "478       1        1        8          0      3         0         0   \n",
      "479       1        1        8          0      3         1         0   \n",
      "\n",
      "     raisedhands  VisITedResources  AnnouncementsView  Discussion  \\\n",
      "0             15                16                  2          20   \n",
      "1             20                20                  3          25   \n",
      "2             10                 7                  0          30   \n",
      "3             30                25                  5          35   \n",
      "4             40                50                 12          50   \n",
      "..           ...               ...                ...         ...   \n",
      "475            5                 4                  5           8   \n",
      "476           50                77                 14          28   \n",
      "477           55                74                 25          29   \n",
      "478           30                17                 14          57   \n",
      "479           35                14                 23          62   \n",
      "\n",
      "     ParentAnsweringSurvey  ParentschoolSatisfaction  StudentAbsenceDays  \\\n",
      "0                        0                         0                   0   \n",
      "1                        0                         0                   0   \n",
      "2                        1                         1                   1   \n",
      "3                        1                         1                   1   \n",
      "4                        1                         1                   1   \n",
      "..                     ...                       ...                 ...   \n",
      "475                      1                         1                   1   \n",
      "476                      1                         1                   0   \n",
      "477                      1                         1                   0   \n",
      "478                      1                         1                   1   \n",
      "479                      1                         1                   1   \n",
      "\n",
      "     Class  \n",
      "0        1  \n",
      "1        1  \n",
      "2        0  \n",
      "3        0  \n",
      "4        1  \n",
      "..     ...  \n",
      "475      0  \n",
      "476      1  \n",
      "477      1  \n",
      "478      0  \n",
      "479      0  \n",
      "\n",
      "[480 rows x 15 columns]\n"
     ]
    }
   ],
   "source": [
    "#Converting alphabetical values to numerical values\n",
    "dataset = dataset.dropna()\n",
    "print(\"Old shape :\" ,dataset.shape)\n",
    "\n",
    "dataset['gender'].replace({'M': 0, 'F': 1},inplace = True)\n",
    "dataset['StageID'].replace({'lowerlevel': 0, 'MiddleSchool': 1 , 'HighSchool':2},inplace = True)\n",
    "dataset['ParentschoolSatisfaction'].replace({'Good': 0, 'Bad': 1},inplace = True)\n",
    "dataset['ParentAnsweringSurvey'].replace({'Yes': 0, 'No': 1},inplace = True)\n",
    "dataset['StudentAbsenceDays'].replace({'Under-7': 0, 'Above-7': 1},inplace = True)\n",
    "dataset['Relation'].replace({'Father': 0, 'Mum': 1},inplace = True)\n",
    "dataset['SectionID'].replace({'A': 0, 'B': 1 , 'C':2},inplace = True)\n",
    "dataset['Topic'].replace({'IT': 0, 'Chemistry': 1 , 'Geology':2 , 'History' : 3, 'Biology' : 4, 'Arabic':5 , 'French':6 , 'Science' : 7 , 'English' : 8 , 'Math':9,'Quran':10 , 'Spanish':11},inplace = True)\n",
    "dataset['Semester'].replace({'F': 0, 'S': 1},inplace = True)\n",
    "dataset['GradeID'].replace({'G-02':2, 'G-04': 4 , 'G-05':5,'G-06':6,'G-07':7 ,'G-08':8,'G-09':9,'G-10':10,'G-11':11,'G-12':12 },inplace = True)\n",
    "dataset = dataset.drop('NationalITy', axis='columns')\n",
    "dataset = dataset.drop(\"PlaceofBirth\", axis='columns')\n",
    "dataset['Class'].replace({'L': 0, 'M': 1 , 'H' :2},inplace = True)\n",
    "\n",
    "print(\"New shape :\" ,dataset.shape)\n",
    "print(dataset)"
   ]
  },
  {
   "cell_type": "code",
   "execution_count": 12,
   "id": "265f9d33",
   "metadata": {},
   "outputs": [
    {
     "name": "stdout",
     "output_type": "stream",
     "text": [
      "[[ 0  0  4 ... 20  0  0]\n",
      " [ 0  0  4 ... 25  0  0]\n",
      " [ 0  0  4 ... 30  1  1]\n",
      " ...\n",
      " [ 1  1  8 ... 29  1  1]\n",
      " [ 1  1  8 ... 57  1  1]\n",
      " [ 1  1  8 ... 62  1  1]]\n"
     ]
    }
   ],
   "source": [
    "#separating the dependent and independent values....\n",
    "#X-Independent variable\n",
    "X = dataset.iloc[:, 0:13].values\n",
    "print(X)"
   ]
  },
  {
   "cell_type": "code",
   "execution_count": 13,
   "id": "db74681e",
   "metadata": {},
   "outputs": [
    {
     "name": "stdout",
     "output_type": "stream",
     "text": [
      "[1 1 0 0 1 1 0 1 1 1 2 1 0 0 2 1 1 1 1 2 1 1 1 0 0 0 1 0 1 1 2 0 0 0 0 0 0\n",
      " 1 0 1 0 1 0 1 1 0 0 2 2 1 0 0 1 2 0 0 0 0 1 1 0 1 2 1 0 0 1 2 2 1 0 1 0 1\n",
      " 0 1 1 1 0 2 0 0 0 1 2 0 2 0 0 0 0 2 2 2 0 2 2 1 1 1 1 2 0 0 1 0 1 2 1 1 2\n",
      " 1 0 0 0 0 1 2 1 1 1 0 1 1 0 0 1 0 0 0 0 1 0 0 2 2 2 1 2 1 0 0 1 2 0 1 2 1\n",
      " 1 2 2 1 2 0 1 2 1 1 0 1 2 1 2 1 1 2 1 2 2 1 2 1 0 0 1 0 2 1 2 1 2 0 2 1 0\n",
      " 2 1 1 2 1 0 0 1 1 1 1 2 2 0 1 2 2 1 1 0 2 1 1 1 1 2 1 2 0 0 0 1 1 2 1 1 1\n",
      " 1 2 2 1 0 0 2 0 1 0 1 1 1 0 0 1 1 2 2 1 0 1 2 1 2 1 0 1 2 0 1 0 2 2 2 1 1\n",
      " 0 0 1 1 1 1 2 1 1 1 1 2 1 1 2 2 2 2 2 1 1 2 2 2 2 1 1 2 2 1 1 0 0 2 2 1 1\n",
      " 2 2 1 1 0 0 1 1 1 1 2 2 1 1 1 1 2 2 2 2 2 2 2 2 1 1 0 0 1 1 0 0 1 1 0 0 1\n",
      " 1 0 0 1 1 1 1 1 1 1 1 2 2 2 2 0 0 0 0 1 1 2 2 1 1 2 2 1 1 2 2 2 2 1 1 2 2\n",
      " 1 1 0 0 0 0 1 1 0 0 0 0 2 2 2 2 1 1 0 0 1 1 2 2 2 2 1 1 2 2 1 1 2 2 2 2 0\n",
      " 0 1 1 2 2 1 1 0 0 2 2 2 2 2 2 1 1 2 2 1 1 0 0 2 2 1 1 1 1 1 1 1 1 1 1 1 1\n",
      " 0 0 1 1 2 2 2 2 1 1 1 1 2 2 2 2 1 1 1 1 2 2 2 2 0 0 1 1 1 1 0 0 1 1 0 0]\n"
     ]
    }
   ],
   "source": [
    "#y-dependent or target variable\n",
    "y = dataset.iloc[:, 14].values\n",
    "print(y)"
   ]
  },
  {
   "cell_type": "code",
   "execution_count": 14,
   "id": "89b20d3e",
   "metadata": {},
   "outputs": [
    {
     "data": {
      "image/png": "[encoded data removed]",
      "text/plain": [
       "<Figure size 432x288 with 1 Axes>"
      ]
     },
     "metadata": {
      "needs_background": "light"
     },
     "output_type": "display_data"
    }
   ],
   "source": [
    "#Plot Visited recourses vs Raised hands ............\n",
    "Vrecourses = dataset.iloc[: , 8].values\n",
    "Rhands = dataset.iloc[: , 7].values\n",
    "plt.scatter(Vrecourses , Rhands , label='Raised handes', color='Orange' , s=10)\n",
    "plt.xlabel('Visited recouses')\n",
    "plt.ylabel('Raised hands')\n",
    "plt.title('visited resources vs raised hands')\n",
    "plt.legend(loc=\"lower right\")\n",
    "plt.show()"
   ]
  },
  {
   "cell_type": "code",
   "execution_count": 15,
   "id": "bd664361",
   "metadata": {
    "scrolled": true
   },
   "outputs": [
    {
     "data": {
      "image/png": "[encoded data removed]",
      "text/plain": [
       "<Figure size 432x288 with 1 Axes>"
      ]
     },
     "metadata": {
      "needs_background": "light"
     },
     "output_type": "display_data"
    }
   ],
   "source": [
    "#Plot Discussion vs Grade............\n",
    "Discussion = dataset.iloc[: , 10].values\n",
    "plt.scatter(Discussion , y , label='Grade' , color='Green' , s=10)\n",
    "plt.xlabel('Discussion')\n",
    "plt.ylabel('Grade')\n",
    "plt.title('Discussion time vs grade')\n",
    "plt.legend()\n",
    "plt.show()"
   ]
  },
  {
   "cell_type": "code",
   "execution_count": 16,
   "id": "9b29d200",
   "metadata": {},
   "outputs": [],
   "source": [
    "#initating the training and the testing sets\n",
    "from sklearn.model_selection import train_test_split\n",
    "X_train, X_test, y_train, y_test = train_test_split(X, y, test_size=0.2, random_state=93)"
   ]
  },
  {
   "cell_type": "code",
   "execution_count": 17,
   "id": "b092b8dd",
   "metadata": {},
   "outputs": [
    {
     "data": {
      "text/plain": [
       "LinearRegression()"
      ]
     },
     "execution_count": 17,
     "metadata": {},
     "output_type": "execute_result"
    }
   ],
   "source": [
    "#linear regression model (-1)\n",
    "from sklearn.linear_model import LinearRegression\n",
    "regressor = LinearRegression()\n",
    "regressor.fit(X_train, y_train)"
   ]
  },
  {
   "cell_type": "code",
   "execution_count": 116,
   "id": "bcb9f341",
   "metadata": {},
   "outputs": [
    {
     "data": {
      "text/plain": [
       "RandomForestClassifier()"
      ]
     },
     "execution_count": 116,
     "metadata": {},
     "output_type": "execute_result"
    }
   ],
   "source": [
    "#RandomForestClassifier model (0.65)\n",
    "from sklearn.ensemble import RandomForestClassifier\n",
    "rf = RandomForestClassifier()\n",
    "rf.fit(X_train, y_train)"
   ]
  },
  {
   "cell_type": "code",
   "execution_count": 235,
   "id": "64f06fdd",
   "metadata": {},
   "outputs": [
    {
     "data": {
      "text/plain": [
       "KNeighborsClassifier(n_neighbors=12)"
      ]
     },
     "execution_count": 235,
     "metadata": {},
     "output_type": "execute_result"
    }
   ],
   "source": [
    "# KNN (0.66)\n",
    "from sklearn.neighbors import KNeighborsClassifier\n",
    "neigh = KNeighborsClassifier(n_neighbors=12)\n",
    "neigh.fit(X_train , y_train)"
   ]
  },
  {
   "cell_type": "code",
   "execution_count": 228,
   "id": "48d5bd65",
   "metadata": {},
   "outputs": [
    {
     "data": {
      "text/plain": [
       "LogisticRegression(max_iter=1300)"
      ]
     },
     "execution_count": 228,
     "metadata": {},
     "output_type": "execute_result"
    }
   ],
   "source": [
    "#logistic regression model (0.72)\n",
    "from sklearn.linear_model import LogisticRegression\n",
    "\n",
    "logreg = LogisticRegression(max_iter=1300)\n",
    "# max_iter: Maximum number of iterations taken for the solvers to converge. default=100\n",
    "\n",
    "logreg.fit(X_train,y_train)"
   ]
  },
  {
   "cell_type": "code",
   "execution_count": 156,
   "id": "2e911206",
   "metadata": {},
   "outputs": [
    {
     "data": {
      "text/plain": [
       "SVC()"
      ]
     },
     "execution_count": 156,
     "metadata": {},
     "output_type": "execute_result"
    }
   ],
   "source": [
    "#SVM model (0.6)\n",
    "from sklearn.svm import SVC\n",
    "SVM = SVC()\n",
    "SVM.fit(X_train, y_train)"
   ]
  },
  {
   "cell_type": "code",
   "execution_count": 231,
   "id": "5e434cb3",
   "metadata": {},
   "outputs": [
    {
     "data": {
      "text/plain": [
       "GaussianNB()"
      ]
     },
     "execution_count": 231,
     "metadata": {},
     "output_type": "execute_result"
    }
   ],
   "source": [
    "#naive bayes model (0.68)\n",
    "from sklearn.naive_bayes import GaussianNB\n",
    "\n",
    "# Build a Gaussian Classifier\n",
    "model = GaussianNB()\n",
    "\n",
    "# Model training\n",
    "model.fit(X_train, y_train)"
   ]
  },
  {
   "cell_type": "code",
   "execution_count": 218,
   "id": "63ac2a07",
   "metadata": {},
   "outputs": [
    {
     "data": {
      "text/plain": [
       "MLPClassifier(max_iter=1300)"
      ]
     },
     "execution_count": 218,
     "metadata": {},
     "output_type": "execute_result"
    }
   ],
   "source": [
    "#neural network\n",
    "from sklearn.neural_network import MLPClassifier\n",
    "mlp = MLPClassifier(max_iter=1300)\n",
    "mlp.fit(X_train,y_train)"
   ]
  },
  {
   "cell_type": "code",
   "execution_count": 142,
   "id": "c5cec19a",
   "metadata": {},
   "outputs": [
    {
     "data": {
      "text/plain": [
       "DecisionTreeClassifier()"
      ]
     },
     "execution_count": 142,
     "metadata": {},
     "output_type": "execute_result"
    }
   ],
   "source": [
    "#decision tree model (0.65)\n",
    "from sklearn.tree import DecisionTreeClassifier\n",
    "dtree = DecisionTreeClassifier()\n",
    "dtree.fit(X_train , y_train )"
   ]
  },
  {
   "cell_type": "code",
   "execution_count": 150,
   "id": "d8a2a457",
   "metadata": {},
   "outputs": [
    {
     "data": {
      "text/plain": [
       "GradientBoostingClassifier()"
      ]
     },
     "execution_count": 150,
     "metadata": {},
     "output_type": "execute_result"
    }
   ],
   "source": [
    "#gradient boosting classifier model (0.6)\n",
    "from sklearn.ensemble import GradientBoostingClassifier\n",
    "Gboost = GradientBoostingClassifier()\n",
    "Gboost.fit(X_train , y_train)"
   ]
  },
  {
   "cell_type": "code",
   "execution_count": 236,
   "id": "365c6068",
   "metadata": {},
   "outputs": [],
   "source": [
    "#predicting the test set\n",
    "y_pred = neigh.predict(X_test)"
   ]
  },
  {
   "cell_type": "code",
   "execution_count": 130,
   "id": "9c3e1d4c",
   "metadata": {},
   "outputs": [
    {
     "name": "stdout",
     "output_type": "stream",
     "text": [
      "384\n",
      "96\n",
      "384\n",
      "96\n"
     ]
    }
   ],
   "source": [
    "print( len(X_train) )\n",
    "print( len(X_test) )\n",
    "print( len(y_train) )\n",
    "print( len(y_test) )"
   ]
  },
  {
   "cell_type": "code",
   "execution_count": 172,
   "id": "f72e665c",
   "metadata": {},
   "outputs": [
    {
     "name": "stdout",
     "output_type": "stream",
     "text": [
      "Mean absolute error: 0.44\n"
     ]
    }
   ],
   "source": [
    "# Mean absolute error\n",
    "from sklearn.metrics import mean_absolute_error\n",
    "print(\"Mean absolute error: %.2f\" % mean_absolute_error(y_test, y_pred))"
   ]
  },
  {
   "cell_type": "code",
   "execution_count": 173,
   "id": "ff047276",
   "metadata": {},
   "outputs": [
    {
     "name": "stdout",
     "output_type": "stream",
     "text": [
      "Mean squared error: 0.50\n"
     ]
    }
   ],
   "source": [
    "# Mean squared error\n",
    "from sklearn.metrics import mean_squared_error\n",
    "print(\"Mean squared error: %.2f\" % mean_squared_error(y_test, y_pred))"
   ]
  },
  {
   "cell_type": "code",
   "execution_count": 222,
   "id": "e7900bcb",
   "metadata": {},
   "outputs": [
    {
     "name": "stdout",
     "output_type": "stream",
     "text": [
      "Accuracy : 0.6354166666666666\n"
     ]
    }
   ],
   "source": [
    "# Evaluate the model\n",
    "from sklearn.metrics import accuracy_score\n",
    "\n",
    "score = accuracy_score(y_test,y_pred)\n",
    "print('Accuracy :',score)"
   ]
  },
  {
   "cell_type": "code",
   "execution_count": 238,
   "id": "4133f444",
   "metadata": {
    "scrolled": true
   },
   "outputs": [
    {
     "data": {
      "text/plain": [
       "<sklearn.metrics._plot.confusion_matrix.ConfusionMatrixDisplay at 0x28269689b50>"
      ]
     },
     "execution_count": 238,
     "metadata": {},
     "output_type": "execute_result"
    },
    {
     "data": {
      "image/png": "[encoded data removed]",
      "text/plain": [
       "<Figure size 432x288 with 2 Axes>"
      ]
     },
     "metadata": {
      "needs_background": "light"
     },
     "output_type": "display_data"
    }
   ],
   "source": [
    "from sklearn.metrics import confusion_matrix, ConfusionMatrixDisplay\n",
    "cm = confusion_matrix(y_test, y_pred)\n",
    "disp = ConfusionMatrixDisplay(confusion_matrix=cm)\n",
    "disp.plot()"
   ]
  },
  {
   "cell_type": "code",
   "execution_count": 237,
   "id": "bdd90964",
   "metadata": {},
   "outputs": [
    {
     "name": "stdout",
     "output_type": "stream",
     "text": [
      "              precision    recall  f1-score   support\n",
      "\n",
      "           0       0.75      0.88      0.81        24\n",
      "           1       0.66      0.67      0.67        49\n",
      "           2       0.50      0.39      0.44        23\n",
      "\n",
      "    accuracy                           0.66        96\n",
      "   macro avg       0.64      0.65      0.64        96\n",
      "weighted avg       0.64      0.66      0.65        96\n",
      "\n"
     ]
    }
   ],
   "source": [
    "from sklearn.metrics import classification_report\n",
    "print(classification_report(y_test, y_pred))"
   ]
  }
 ],
 "metadata": {
  "kernelspec": {
   "display_name": "Python 3 (ipykernel)",
   "language": "python",
   "name": "python3"
  },
  "language_info": {
   "codemirror_mode": {
    "name": "ipython",
    "version": 3
   },
   "file_extension": ".py",
   "mimetype": "text/x-python",
   "name": "python",
   "nbconvert_exporter": "python",
   "pygments_lexer": "ipython3",
   "version": "3.9.7"
  }
 },
 "nbformat": 4,
 "nbformat_minor": 5
}
